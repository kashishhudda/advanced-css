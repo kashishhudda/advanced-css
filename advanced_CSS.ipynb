{
  "nbformat": 4,
  "nbformat_minor": 0,
  "metadata": {
    "colab": {
      "provenance": []
    },
    "kernelspec": {
      "name": "python3",
      "display_name": "Python 3"
    },
    "language_info": {
      "name": "python"
    }
  },
  "cells": [
    {
      "cell_type": "markdown",
      "source": [
        "1. Explain the purpose of using the var() function in css. Also you have created two buttons with id named\n",
        "primaryBtn and secondaryBtn which should be given background colors using the var() function. The color\n",
        "code for primaryColor is #00b7ff and secondaryColor is #6c757d\n",
        " - The var() function is used to access CSS custom properties (variables).\n",
        "\n",
        "Why use it?\n",
        "\n",
        "Reusability – Define a color or value once and reuse it throughout the stylesheet.\n",
        "\n",
        "Easy maintenance – Changing the variable updates all places where it’s used.\n",
        "\n",
        "Dynamic theming – You can switch themes easily by updating variable values."
      ],
      "metadata": {
        "id": "LIFQOez0oq7_"
      }
    },
    {
      "cell_type": "code",
      "source": [
        "< !DOCTYPE html>\n",
        "< html lang=\"en\">\n",
        "< head>\n",
        "    < meta charset=\"UTF-8\">\n",
        "    < meta name=\"viewport\" content=\"width=device-width, initial-scale=1.0\">\n",
        "    < title>Button Colors with CSS Variables< /title>\n",
        "    < link rel=\"stylesheet\" href=\"style.css\">\n",
        "< /head>\n",
        "< body>\n",
        "    < button id=\"primaryBtn\">Primary Button< /button>\n",
        "    < button id=\"secondaryBtn\">Secondary Button< /button>\n",
        "< /body>\n",
        "< /html>\n",
        "\n",
        "\n",
        "\"\"\"External CSS\"\"\"\n",
        ":root {\n",
        "    --primaryColor: #00b7ff;\n",
        "    --secondaryColor: #6c757d;\n",
        "}\n",
        "\n",
        "#primaryBtn {\n",
        "    background-color: var(--primaryColor);\n",
        "    color: white;\n",
        "    border: none;\n",
        "    padding: 10px 20px;\n",
        "    border-radius: 5px;\n",
        "    cursor: pointer;\n",
        "}\n",
        "\n",
        "#secondaryBtn {\n",
        "    background-color: var(--secondaryColor);\n",
        "    color: white;\n",
        "    border: none;\n",
        "    padding: 10px 20px;\n",
        "    border-radius: 5px;\n",
        "    cursor: pointer;\n",
        "}\n"
      ],
      "metadata": {
        "id": "vlUMIoxzo3LV"
      },
      "execution_count": null,
      "outputs": []
    },
    {
      "cell_type": "markdown",
      "source": [
        "2. Create a 3D cube using the transform property of CSS"
      ],
      "metadata": {
        "id": "WZlNOD-TotAj"
      }
    },
    {
      "cell_type": "code",
      "source": [
        "< !DOCTYPE html>\n",
        "< html lang=\"en\">\n",
        "< head>\n",
        "    < meta charset=\"UTF-8\">\n",
        "    < meta name=\"viewport\" content=\"width=device-width, initial-scale=1.0\">\n",
        "    < title>3D Cube with CSS< /title>\n",
        "    < link rel=\"stylesheet\" href=\"style.css\">\n",
        "< /head>\n",
        "< body>\n",
        "    < div class=\"scene\">\n",
        "        < div class=\"cube\">\n",
        "            < div class=\"face front\">Front< /div>\n",
        "            < div class=\"face back\">Back< /div>\n",
        "            < div class=\"face right\">Right< /div>\n",
        "            < div class=\"face left\">Left< /div>\n",
        "            < div class=\"face top\">Top< /div>\n",
        "            < div class=\"face bottom\">Bottom< /div>\n",
        "        < /div>\n",
        "    < /div>\n",
        "< /body>\n",
        "< /html>\n",
        "\n",
        "\n",
        "\"\"\"External Css\"\"\"\n",
        "body {\n",
        "    display: flex;\n",
        "    justify-content: center;\n",
        "    align-items: center;\n",
        "    height: 100vh;\n",
        "    perspective: 800px;\n",
        "    background: #f0f0f0;\n",
        "}\n",
        "\n",
        ".scene {\n",
        "    width: 200px;\n",
        "    height: 200px;\n",
        "}\n",
        "\n",
        ".cube {\n",
        "    width: 100%;\n",
        "    height: 100%;\n",
        "    position: relative;\n",
        "    transform-style: preserve-3d;\n",
        "    transition: transform 4s;\n",
        "}\n",
        "\n",
        ".scene:hover .cube {\n",
        "    transform: rotateX(180deg) rotateY(180deg);\n",
        "}\n",
        "\n",
        ".face {\n",
        "    position: absolute;\n",
        "    width: 200px;\n",
        "    height: 200px;\n",
        "    display: flex;\n",
        "    justify-content: center;\n",
        "    align-items: center;\n",
        "    font-weight: bold;\n",
        "    color: white;\n",
        "    border: 2px solid #fff;\n",
        "}\n",
        "\n",
        ".front  { transform: rotateY(0deg) translateZ(100px); background: #00b7ff;}\n",
        ".back   { transform: rotateY(180deg) translateZ(100px); background: #ff4d4d;}\n",
        ".right  { transform: rotateY(90deg) translateZ(100px); background: #4dff4d;}\n",
        ".left   { transform: rotateY(-90deg) translateZ(100px); background: #ffff4d;}\n",
        ".top    { transform: rotateX(90deg) translateZ(100px); background: #4dffff;}\n",
        ".bottom { transform: rotateX(-90deg) translateZ(100px); background: #ff4dff;}\n"
      ],
      "metadata": {
        "id": "AYjaFkm-pY1S"
      },
      "execution_count": null,
      "outputs": []
    },
    {
      "cell_type": "markdown",
      "source": [
        "3. Create a simple circular loader which will rotate continuously to look like a loading screen on a website."
      ],
      "metadata": {
        "id": "rFjBsWC_qd7N"
      }
    },
    {
      "cell_type": "code",
      "source": [
        "< !DOCTYPE html>\n",
        "< html lang=\"en\">\n",
        "< head>\n",
        "    < meta charset=\"UTF-8\">\n",
        "    < meta name=\"viewport\" content=\"width=device-width, initial-scale=1.0\">\n",
        "    < title>CSS Loader< /title>\n",
        "    < link rel=\"stylesheet\" href=\"style.css\">\n",
        "< /head>\n",
        "< body>\n",
        "    <div class=\"loader\"> < /div>\n",
        "< /body>\n",
        "< /html>\n",
        "\n",
        "\n",
        "\"\"\"External CSS\"\"\"\n",
        "\n",
        "body {\n",
        "    display: flex;\n",
        "    justify-content: center;\n",
        "    align-items: center;\n",
        "    height: 100vh;\n",
        "    background: #f0f0f0;\n",
        "}\n",
        "\n",
        ".loader {\n",
        "    width: 60px;\n",
        "    height: 60px;\n",
        "    border: 8px solid #dad8d8;\n",
        "    border-top: 8px solid #3498db;\n",
        "    border-radius: 50%;\n",
        "    animation: spin 1s linear infinite; }\n",
        "\n",
        "@keyframes spin {\n",
        "    0%   { transform: rotate(0deg); }\n",
        "    100% { transform: rotate(360deg); }\n",
        "}\n"
      ],
      "metadata": {
        "id": "ir_uIjECrPj9"
      },
      "execution_count": null,
      "outputs": []
    },
    {
      "cell_type": "markdown",
      "source": [
        "4. You have to visit the PW Skills website (https://pwskills.com/) and have to hide the logo by using the developer\n",
        "tool. This should be done using the css and developer tool only, use of javascript is prohibited.\n",
        "   -   steps performed\n",
        "\n",
        "\n",
        "*   I opened the PW Skills Website: https://pwskills.com/\n",
        "*   I pressed F12 to open the Developer Tools.\n",
        "*   Using the Inspect tool, I selected the logo element on the website.\n",
        "*   In the Elements panel → Styles tab, I added a custom CSS rule to hide the logo.\n",
        "\n",
        "  -   CSS used\n",
        "  .logo {\n",
        "    display: none !important;\n",
        "}\n",
        "  -  Output:\n",
        "\n",
        "Before applying CSS: The PW Skills logo was visible on the header.\n",
        "\n",
        "After applying CSS: The PW Skills logo was completely hidden from the page.\n",
        "   \n",
        "\n"
      ],
      "metadata": {
        "id": "km8u3a5_rceY"
      }
    },
    {
      "cell_type": "code",
      "source": [],
      "metadata": {
        "id": "LTI_MayaLHNC"
      },
      "execution_count": null,
      "outputs": []
    }
  ]
}